{
 "cells": [
  {
   "cell_type": "code",
   "execution_count": 11,
   "id": "d0573b78",
   "metadata": {},
   "outputs": [],
   "source": [
    "import numpy as np\n",
    "import pandas as pd\n",
    "import datetime as dt"
   ]
  },
  {
   "cell_type": "code",
   "execution_count": 12,
   "id": "0861037a",
   "metadata": {},
   "outputs": [],
   "source": [
    "# Number of data points to have in dataset\n",
    "data_len = 1000\n",
    "# Probability that some shares are bought\n",
    "p_buy = 0.80\n",
    "# Parameter for the size, modeled as exponential distribution: https://en.wikipedia.org/wiki/Exponential_distribution\n",
    "exp_param = 8\n",
    "# Names of tickers and their sectors\n",
    "tickers = [(\"AAPL TECH\"), (\"GOOGL TECH\"), (\"NVDA TECH\"),\\\n",
    "                (\"BIIB BIOTECH\"), (\"APLS BIOTECH\"),\\\n",
    "                (\"GM AUTOMOTIVE\"), (\"TSLA AUTOMOTIVE\")\\\n",
    "          ]\n",
    "# Start and end date for data to be distributed inbetween\n",
    "start_date = pd.to_datetime(\"January 1, 2018\")\n",
    "end_date = dt.datetime.now()"
   ]
  },
  {
   "cell_type": "code",
   "execution_count": 13,
   "id": "93070bf3",
   "metadata": {},
   "outputs": [],
   "source": [
    "# Create arrays with names and sector\n",
    "names = [np.random.choice(tickers).split() for n in range(data_len)]\n",
    "t_names = [n[0] for n in names]\n",
    "t_sectors = [n[1] for n in names]"
   ]
  },
  {
   "cell_type": "code",
   "execution_count": 14,
   "id": "e43dba73",
   "metadata": {},
   "outputs": [],
   "source": [
    "# Arrays for direction, size and day\n",
    "t_directions = [\"BUY\" if np.random.rand() < p_buy else \"SELL\" for n in range(data_len)]\n",
    "t_sizes = [int(np.random.exponential(exp_param) + 1) for n in range(data_len)]\n",
    "t_prices = [(np.random.randint(1000, 7000) / 100) for n in range(data_len)]\n",
    "t_dates = [start_date + dt.timedelta(days = np.random.randint((end_date - start_date).days)) for n in range(data_len)]"
   ]
  },
  {
   "cell_type": "code",
   "execution_count": 15,
   "id": "58720ef4",
   "metadata": {},
   "outputs": [],
   "source": [
    "# Create dataframe with each array as a column\n",
    "df = pd.DataFrame({\n",
    "    \"TICKER\" : t_names,\n",
    "    \"SECTOR\" : t_sectors,\n",
    "    \"DIRECTION\" : t_directions,\n",
    "    \"SIZE\" : t_sizes,\n",
    "    \"PRICE\" : t_prices, \n",
    "    \"DATE\" : t_dates\n",
    "})"
   ]
  },
  {
   "cell_type": "code",
   "execution_count": 16,
   "id": "7a861e28",
   "metadata": {},
   "outputs": [
    {
     "data": {
      "text/html": [
       "<div>\n",
       "<style scoped>\n",
       "    .dataframe tbody tr th:only-of-type {\n",
       "        vertical-align: middle;\n",
       "    }\n",
       "\n",
       "    .dataframe tbody tr th {\n",
       "        vertical-align: top;\n",
       "    }\n",
       "\n",
       "    .dataframe thead th {\n",
       "        text-align: right;\n",
       "    }\n",
       "</style>\n",
       "<table border=\"1\" class=\"dataframe\">\n",
       "  <thead>\n",
       "    <tr style=\"text-align: right;\">\n",
       "      <th></th>\n",
       "      <th>TICKER</th>\n",
       "      <th>SECTOR</th>\n",
       "      <th>DIRECTION</th>\n",
       "      <th>SIZE</th>\n",
       "      <th>PRICE</th>\n",
       "      <th>DATE</th>\n",
       "    </tr>\n",
       "  </thead>\n",
       "  <tbody>\n",
       "    <tr>\n",
       "      <th>28</th>\n",
       "      <td>NVDA</td>\n",
       "      <td>TECH</td>\n",
       "      <td>BUY</td>\n",
       "      <td>13</td>\n",
       "      <td>51.52</td>\n",
       "      <td>2020-07-31</td>\n",
       "    </tr>\n",
       "    <tr>\n",
       "      <th>132</th>\n",
       "      <td>TSLA</td>\n",
       "      <td>AUTOMOTIVE</td>\n",
       "      <td>BUY</td>\n",
       "      <td>2</td>\n",
       "      <td>39.40</td>\n",
       "      <td>2021-11-22</td>\n",
       "    </tr>\n",
       "    <tr>\n",
       "      <th>160</th>\n",
       "      <td>TSLA</td>\n",
       "      <td>AUTOMOTIVE</td>\n",
       "      <td>SELL</td>\n",
       "      <td>6</td>\n",
       "      <td>37.93</td>\n",
       "      <td>2021-09-13</td>\n",
       "    </tr>\n",
       "    <tr>\n",
       "      <th>239</th>\n",
       "      <td>APLS</td>\n",
       "      <td>BIOTECH</td>\n",
       "      <td>BUY</td>\n",
       "      <td>3</td>\n",
       "      <td>15.30</td>\n",
       "      <td>2020-10-01</td>\n",
       "    </tr>\n",
       "    <tr>\n",
       "      <th>309</th>\n",
       "      <td>GM</td>\n",
       "      <td>AUTOMOTIVE</td>\n",
       "      <td>BUY</td>\n",
       "      <td>1</td>\n",
       "      <td>23.82</td>\n",
       "      <td>2020-12-14</td>\n",
       "    </tr>\n",
       "    <tr>\n",
       "      <th>403</th>\n",
       "      <td>GM</td>\n",
       "      <td>AUTOMOTIVE</td>\n",
       "      <td>SELL</td>\n",
       "      <td>1</td>\n",
       "      <td>41.60</td>\n",
       "      <td>2019-04-17</td>\n",
       "    </tr>\n",
       "    <tr>\n",
       "      <th>451</th>\n",
       "      <td>TSLA</td>\n",
       "      <td>AUTOMOTIVE</td>\n",
       "      <td>BUY</td>\n",
       "      <td>5</td>\n",
       "      <td>28.55</td>\n",
       "      <td>2019-11-27</td>\n",
       "    </tr>\n",
       "    <tr>\n",
       "      <th>468</th>\n",
       "      <td>GM</td>\n",
       "      <td>AUTOMOTIVE</td>\n",
       "      <td>BUY</td>\n",
       "      <td>8</td>\n",
       "      <td>42.94</td>\n",
       "      <td>2019-09-04</td>\n",
       "    </tr>\n",
       "    <tr>\n",
       "      <th>527</th>\n",
       "      <td>BIIB</td>\n",
       "      <td>BIOTECH</td>\n",
       "      <td>BUY</td>\n",
       "      <td>18</td>\n",
       "      <td>42.89</td>\n",
       "      <td>2018-03-27</td>\n",
       "    </tr>\n",
       "    <tr>\n",
       "      <th>877</th>\n",
       "      <td>APLS</td>\n",
       "      <td>BIOTECH</td>\n",
       "      <td>BUY</td>\n",
       "      <td>6</td>\n",
       "      <td>38.02</td>\n",
       "      <td>2019-11-04</td>\n",
       "    </tr>\n",
       "  </tbody>\n",
       "</table>\n",
       "</div>"
      ],
      "text/plain": [
       "    TICKER      SECTOR DIRECTION  SIZE  PRICE       DATE\n",
       "28    NVDA        TECH       BUY    13  51.52 2020-07-31\n",
       "132   TSLA  AUTOMOTIVE       BUY     2  39.40 2021-11-22\n",
       "160   TSLA  AUTOMOTIVE      SELL     6  37.93 2021-09-13\n",
       "239   APLS     BIOTECH       BUY     3  15.30 2020-10-01\n",
       "309     GM  AUTOMOTIVE       BUY     1  23.82 2020-12-14\n",
       "403     GM  AUTOMOTIVE      SELL     1  41.60 2019-04-17\n",
       "451   TSLA  AUTOMOTIVE       BUY     5  28.55 2019-11-27\n",
       "468     GM  AUTOMOTIVE       BUY     8  42.94 2019-09-04\n",
       "527   BIIB     BIOTECH       BUY    18  42.89 2018-03-27\n",
       "877   APLS     BIOTECH       BUY     6  38.02 2019-11-04"
      ]
     },
     "execution_count": 16,
     "metadata": {},
     "output_type": "execute_result"
    }
   ],
   "source": [
    "# Sample 10 random points to see if looks good\n",
    "df.sample(10).sort_index()"
   ]
  },
  {
   "cell_type": "code",
   "execution_count": 17,
   "id": "c878c5fc",
   "metadata": {},
   "outputs": [],
   "source": [
    "# Export to csv\n",
    "df.to_csv(\"transaction_data.csv\")"
   ]
  },
  {
   "cell_type": "markdown",
   "id": "fd2249dd",
   "metadata": {},
   "source": [
    "Done!"
   ]
  }
 ],
 "metadata": {
  "kernelspec": {
   "display_name": "Python 3.9.13 64-bit",
   "language": "python",
   "name": "python3"
  },
  "language_info": {
   "codemirror_mode": {
    "name": "ipython",
    "version": 3
   },
   "file_extension": ".py",
   "mimetype": "text/x-python",
   "name": "python",
   "nbconvert_exporter": "python",
   "pygments_lexer": "ipython3",
   "version": "3.9.13"
  },
  "vscode": {
   "interpreter": {
    "hash": "b0fa6594d8f4cbf19f97940f81e996739fb7646882a419484c72d19e05852a7e"
   }
  }
 },
 "nbformat": 4,
 "nbformat_minor": 5
}
