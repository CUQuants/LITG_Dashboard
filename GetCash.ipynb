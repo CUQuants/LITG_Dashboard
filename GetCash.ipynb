{
 "cells": [
  {
   "cell_type": "code",
   "execution_count": 1,
   "id": "cae35615",
   "metadata": {},
   "outputs": [],
   "source": [
    "import numpy as np\n",
    "import pandas as pd\n",
    "import datetime as dt\n",
    "import matplotlib.pyplot as plt"
   ]
  },
  {
   "cell_type": "code",
   "execution_count": 2,
   "id": "cbe68d45",
   "metadata": {},
   "outputs": [],
   "source": [
    "data_name = \"transaction_data.csv\""
   ]
  },
  {
   "cell_type": "code",
   "execution_count": 3,
   "id": "105a19b2",
   "metadata": {},
   "outputs": [],
   "source": [
    "df = pd.read_csv(data_name,  index_col=0)"
   ]
  },
  {
   "cell_type": "code",
   "execution_count": 4,
   "id": "b881689d",
   "metadata": {},
   "outputs": [
    {
     "data": {
      "text/html": [
       "<div>\n",
       "<style scoped>\n",
       "    .dataframe tbody tr th:only-of-type {\n",
       "        vertical-align: middle;\n",
       "    }\n",
       "\n",
       "    .dataframe tbody tr th {\n",
       "        vertical-align: top;\n",
       "    }\n",
       "\n",
       "    .dataframe thead th {\n",
       "        text-align: right;\n",
       "    }\n",
       "</style>\n",
       "<table border=\"1\" class=\"dataframe\">\n",
       "  <thead>\n",
       "    <tr style=\"text-align: right;\">\n",
       "      <th></th>\n",
       "      <th>TICKER</th>\n",
       "      <th>SECTOR</th>\n",
       "      <th>DIRECTION</th>\n",
       "      <th>SIZE</th>\n",
       "      <th>PRICE</th>\n",
       "      <th>DATE</th>\n",
       "    </tr>\n",
       "  </thead>\n",
       "  <tbody>\n",
       "    <tr>\n",
       "      <th>0</th>\n",
       "      <td>TSLA</td>\n",
       "      <td>AUTOMOTIVE</td>\n",
       "      <td>BUY</td>\n",
       "      <td>3</td>\n",
       "      <td>28.97</td>\n",
       "      <td>2021-09-09</td>\n",
       "    </tr>\n",
       "    <tr>\n",
       "      <th>1</th>\n",
       "      <td>APLS</td>\n",
       "      <td>BIOTECH</td>\n",
       "      <td>BUY</td>\n",
       "      <td>11</td>\n",
       "      <td>16.58</td>\n",
       "      <td>2021-07-28</td>\n",
       "    </tr>\n",
       "    <tr>\n",
       "      <th>2</th>\n",
       "      <td>NVDA</td>\n",
       "      <td>TECH</td>\n",
       "      <td>SELL</td>\n",
       "      <td>17</td>\n",
       "      <td>23.38</td>\n",
       "      <td>2020-08-20</td>\n",
       "    </tr>\n",
       "    <tr>\n",
       "      <th>3</th>\n",
       "      <td>AAPL</td>\n",
       "      <td>TECH</td>\n",
       "      <td>BUY</td>\n",
       "      <td>3</td>\n",
       "      <td>20.80</td>\n",
       "      <td>2018-05-10</td>\n",
       "    </tr>\n",
       "    <tr>\n",
       "      <th>4</th>\n",
       "      <td>GM</td>\n",
       "      <td>AUTOMOTIVE</td>\n",
       "      <td>BUY</td>\n",
       "      <td>6</td>\n",
       "      <td>28.63</td>\n",
       "      <td>2021-12-31</td>\n",
       "    </tr>\n",
       "    <tr>\n",
       "      <th>...</th>\n",
       "      <td>...</td>\n",
       "      <td>...</td>\n",
       "      <td>...</td>\n",
       "      <td>...</td>\n",
       "      <td>...</td>\n",
       "      <td>...</td>\n",
       "    </tr>\n",
       "    <tr>\n",
       "      <th>995</th>\n",
       "      <td>APLS</td>\n",
       "      <td>BIOTECH</td>\n",
       "      <td>BUY</td>\n",
       "      <td>7</td>\n",
       "      <td>48.20</td>\n",
       "      <td>2018-02-07</td>\n",
       "    </tr>\n",
       "    <tr>\n",
       "      <th>996</th>\n",
       "      <td>TSLA</td>\n",
       "      <td>AUTOMOTIVE</td>\n",
       "      <td>SELL</td>\n",
       "      <td>7</td>\n",
       "      <td>60.97</td>\n",
       "      <td>2020-04-25</td>\n",
       "    </tr>\n",
       "    <tr>\n",
       "      <th>997</th>\n",
       "      <td>TSLA</td>\n",
       "      <td>AUTOMOTIVE</td>\n",
       "      <td>BUY</td>\n",
       "      <td>1</td>\n",
       "      <td>31.23</td>\n",
       "      <td>2020-04-15</td>\n",
       "    </tr>\n",
       "    <tr>\n",
       "      <th>998</th>\n",
       "      <td>NVDA</td>\n",
       "      <td>TECH</td>\n",
       "      <td>BUY</td>\n",
       "      <td>18</td>\n",
       "      <td>38.57</td>\n",
       "      <td>2018-08-24</td>\n",
       "    </tr>\n",
       "    <tr>\n",
       "      <th>999</th>\n",
       "      <td>BIIB</td>\n",
       "      <td>BIOTECH</td>\n",
       "      <td>BUY</td>\n",
       "      <td>2</td>\n",
       "      <td>68.43</td>\n",
       "      <td>2020-12-19</td>\n",
       "    </tr>\n",
       "  </tbody>\n",
       "</table>\n",
       "<p>1000 rows × 6 columns</p>\n",
       "</div>"
      ],
      "text/plain": [
       "    TICKER      SECTOR DIRECTION  SIZE  PRICE       DATE\n",
       "0     TSLA  AUTOMOTIVE       BUY     3  28.97 2021-09-09\n",
       "1     APLS     BIOTECH       BUY    11  16.58 2021-07-28\n",
       "2     NVDA        TECH      SELL    17  23.38 2020-08-20\n",
       "3     AAPL        TECH       BUY     3  20.80 2018-05-10\n",
       "4       GM  AUTOMOTIVE       BUY     6  28.63 2021-12-31\n",
       "..     ...         ...       ...   ...    ...        ...\n",
       "995   APLS     BIOTECH       BUY     7  48.20 2018-02-07\n",
       "996   TSLA  AUTOMOTIVE      SELL     7  60.97 2020-04-25\n",
       "997   TSLA  AUTOMOTIVE       BUY     1  31.23 2020-04-15\n",
       "998   NVDA        TECH       BUY    18  38.57 2018-08-24\n",
       "999   BIIB     BIOTECH       BUY     2  68.43 2020-12-19\n",
       "\n",
       "[1000 rows x 6 columns]"
      ]
     },
     "execution_count": 4,
     "metadata": {},
     "output_type": "execute_result"
    }
   ],
   "source": [
    "df.DATE = pd.to_datetime(df.DATE)\n",
    "df"
   ]
  },
  {
   "cell_type": "code",
   "execution_count": 5,
   "id": "59179b2d",
   "metadata": {},
   "outputs": [],
   "source": [
    "total_buys = np.sum(df[df.DIRECTION == \"BUY\"].PRICE * df[df.DIRECTION == \"BUY\"].SIZE)\n",
    "total_sells = np.sum(df[df.DIRECTION == \"SELL\"].PRICE * df[df.DIRECTION == \"SELL\"].SIZE)\n",
    "initial_cash =  total_buys - total_sells"
   ]
  },
  {
   "cell_type": "code",
   "execution_count": 33,
   "id": "c3d89266",
   "metadata": {},
   "outputs": [
    {
     "data": {
      "text/html": [
       "<div>\n",
       "<style scoped>\n",
       "    .dataframe tbody tr th:only-of-type {\n",
       "        vertical-align: middle;\n",
       "    }\n",
       "\n",
       "    .dataframe tbody tr th {\n",
       "        vertical-align: top;\n",
       "    }\n",
       "\n",
       "    .dataframe thead th {\n",
       "        text-align: right;\n",
       "    }\n",
       "</style>\n",
       "<table border=\"1\" class=\"dataframe\">\n",
       "  <thead>\n",
       "    <tr style=\"text-align: right;\">\n",
       "      <th></th>\n",
       "      <th>index</th>\n",
       "      <th>TICKER</th>\n",
       "      <th>SECTOR</th>\n",
       "      <th>DIRECTION</th>\n",
       "      <th>SIZE</th>\n",
       "      <th>PRICE</th>\n",
       "      <th>DATE</th>\n",
       "    </tr>\n",
       "  </thead>\n",
       "  <tbody>\n",
       "    <tr>\n",
       "      <th>0</th>\n",
       "      <td>34</td>\n",
       "      <td>GOOGL</td>\n",
       "      <td>TECH</td>\n",
       "      <td>SELL</td>\n",
       "      <td>13</td>\n",
       "      <td>55.13</td>\n",
       "      <td>2018-01-02</td>\n",
       "    </tr>\n",
       "    <tr>\n",
       "      <th>1</th>\n",
       "      <td>594</td>\n",
       "      <td>BIIB</td>\n",
       "      <td>BIOTECH</td>\n",
       "      <td>BUY</td>\n",
       "      <td>7</td>\n",
       "      <td>58.05</td>\n",
       "      <td>2018-01-03</td>\n",
       "    </tr>\n",
       "    <tr>\n",
       "      <th>2</th>\n",
       "      <td>627</td>\n",
       "      <td>NVDA</td>\n",
       "      <td>TECH</td>\n",
       "      <td>BUY</td>\n",
       "      <td>5</td>\n",
       "      <td>66.46</td>\n",
       "      <td>2018-01-05</td>\n",
       "    </tr>\n",
       "    <tr>\n",
       "      <th>3</th>\n",
       "      <td>22</td>\n",
       "      <td>GOOGL</td>\n",
       "      <td>TECH</td>\n",
       "      <td>BUY</td>\n",
       "      <td>8</td>\n",
       "      <td>24.45</td>\n",
       "      <td>2018-01-07</td>\n",
       "    </tr>\n",
       "    <tr>\n",
       "      <th>4</th>\n",
       "      <td>96</td>\n",
       "      <td>GM</td>\n",
       "      <td>AUTOMOTIVE</td>\n",
       "      <td>BUY</td>\n",
       "      <td>2</td>\n",
       "      <td>20.59</td>\n",
       "      <td>2018-01-08</td>\n",
       "    </tr>\n",
       "    <tr>\n",
       "      <th>...</th>\n",
       "      <td>...</td>\n",
       "      <td>...</td>\n",
       "      <td>...</td>\n",
       "      <td>...</td>\n",
       "      <td>...</td>\n",
       "      <td>...</td>\n",
       "      <td>...</td>\n",
       "    </tr>\n",
       "    <tr>\n",
       "      <th>995</th>\n",
       "      <td>456</td>\n",
       "      <td>GM</td>\n",
       "      <td>AUTOMOTIVE</td>\n",
       "      <td>BUY</td>\n",
       "      <td>1</td>\n",
       "      <td>52.05</td>\n",
       "      <td>2022-10-21</td>\n",
       "    </tr>\n",
       "    <tr>\n",
       "      <th>996</th>\n",
       "      <td>824</td>\n",
       "      <td>GM</td>\n",
       "      <td>AUTOMOTIVE</td>\n",
       "      <td>SELL</td>\n",
       "      <td>4</td>\n",
       "      <td>34.85</td>\n",
       "      <td>2022-10-21</td>\n",
       "    </tr>\n",
       "    <tr>\n",
       "      <th>997</th>\n",
       "      <td>725</td>\n",
       "      <td>APLS</td>\n",
       "      <td>BIOTECH</td>\n",
       "      <td>BUY</td>\n",
       "      <td>5</td>\n",
       "      <td>55.61</td>\n",
       "      <td>2022-10-23</td>\n",
       "    </tr>\n",
       "    <tr>\n",
       "      <th>998</th>\n",
       "      <td>670</td>\n",
       "      <td>TSLA</td>\n",
       "      <td>AUTOMOTIVE</td>\n",
       "      <td>BUY</td>\n",
       "      <td>21</td>\n",
       "      <td>23.64</td>\n",
       "      <td>2022-10-23</td>\n",
       "    </tr>\n",
       "    <tr>\n",
       "      <th>999</th>\n",
       "      <td>507</td>\n",
       "      <td>GM</td>\n",
       "      <td>AUTOMOTIVE</td>\n",
       "      <td>BUY</td>\n",
       "      <td>6</td>\n",
       "      <td>31.17</td>\n",
       "      <td>2022-10-24</td>\n",
       "    </tr>\n",
       "  </tbody>\n",
       "</table>\n",
       "<p>1000 rows × 7 columns</p>\n",
       "</div>"
      ],
      "text/plain": [
       "     index TICKER      SECTOR DIRECTION  SIZE  PRICE       DATE\n",
       "0       34  GOOGL        TECH      SELL    13  55.13 2018-01-02\n",
       "1      594   BIIB     BIOTECH       BUY     7  58.05 2018-01-03\n",
       "2      627   NVDA        TECH       BUY     5  66.46 2018-01-05\n",
       "3       22  GOOGL        TECH       BUY     8  24.45 2018-01-07\n",
       "4       96     GM  AUTOMOTIVE       BUY     2  20.59 2018-01-08\n",
       "..     ...    ...         ...       ...   ...    ...        ...\n",
       "995    456     GM  AUTOMOTIVE       BUY     1  52.05 2022-10-21\n",
       "996    824     GM  AUTOMOTIVE      SELL     4  34.85 2022-10-21\n",
       "997    725   APLS     BIOTECH       BUY     5  55.61 2022-10-23\n",
       "998    670   TSLA  AUTOMOTIVE       BUY    21  23.64 2022-10-23\n",
       "999    507     GM  AUTOMOTIVE       BUY     6  31.17 2022-10-24\n",
       "\n",
       "[1000 rows x 7 columns]"
      ]
     },
     "execution_count": 33,
     "metadata": {},
     "output_type": "execute_result"
    }
   ],
   "source": [
    "sorted_df = df.sort_values(by=\"DATE\").reset_index()\n",
    "sorted_df"
   ]
  },
  {
   "cell_type": "code",
   "execution_count": 7,
   "id": "60760b78",
   "metadata": {},
   "outputs": [
    {
     "data": {
      "text/plain": [
       "1757"
      ]
     },
     "execution_count": 7,
     "metadata": {},
     "output_type": "execute_result"
    }
   ],
   "source": [
    "f_date = np.min(sorted_df.DATE)\n",
    "e_date = np.max(sorted_df.DATE)\n",
    "num_days = (e_date - f_date).days + 1\n",
    "num_days"
   ]
  },
  {
   "cell_type": "code",
   "execution_count": 47,
   "id": "ca9c1173",
   "metadata": {},
   "outputs": [
    {
     "data": {
      "text/plain": [
       "187178.52000000002"
      ]
     },
     "execution_count": 47,
     "metadata": {},
     "output_type": "execute_result"
    }
   ],
   "source": [
    "cash_value = np.zeros(num_days)\n",
    "cash_delta = np.zeros(num_days)\n",
    "cash_delta[0] = initial_cash\n",
    "initial_cash"
   ]
  },
  {
   "cell_type": "code",
   "execution_count": 9,
   "id": "5e70e7bf",
   "metadata": {},
   "outputs": [],
   "source": [
    "for n in sorted_df.iloc:\n",
    "    day = (n.DATE - f_date).days\n",
    "    if n.DIRECTION == \"BUY\":\n",
    "        cash_delta[day] -= n.SIZE * n.PRICE\n",
    "    else:\n",
    "        cash_delta[day] += n.SIZE * n.PRICE"
   ]
  },
  {
   "cell_type": "code",
   "execution_count": 10,
   "id": "9a04009a",
   "metadata": {},
   "outputs": [],
   "source": [
    "for i in np.arange(1, num_days):\n",
    "    cash_value[i] = cash_value[i - 1] + cash_delta[i - 1]"
   ]
  },
  {
   "cell_type": "code",
   "execution_count": 11,
   "id": "f53db1db",
   "metadata": {},
   "outputs": [
    {
     "data": {
      "text/plain": [
       "array([0.0000000e+00, 1.8789521e+05, 1.8748886e+05, ..., 9.6151000e+02,\n",
       "       9.6151000e+02, 1.8702000e+02])"
      ]
     },
     "execution_count": 11,
     "metadata": {},
     "output_type": "execute_result"
    }
   ],
   "source": [
    "cash_value"
   ]
  },
  {
   "cell_type": "code",
   "execution_count": 12,
   "id": "11d56b56",
   "metadata": {},
   "outputs": [
    {
     "data": {
      "text/plain": [
       "array([ 1.8789521e+05, -4.0635000e+02,  0.0000000e+00, ...,\n",
       "        0.0000000e+00, -7.7449000e+02, -1.8702000e+02])"
      ]
     },
     "execution_count": 12,
     "metadata": {},
     "output_type": "execute_result"
    }
   ],
   "source": [
    "cash_delta"
   ]
  },
  {
   "cell_type": "code",
   "execution_count": 13,
   "id": "6fa5d56c",
   "metadata": {},
   "outputs": [
    {
     "data": {
      "text/plain": [
       "[<matplotlib.lines.Line2D at 0x1be35459cf0>]"
      ]
     },
     "execution_count": 13,
     "metadata": {},
     "output_type": "execute_result"
    },
    {
     "data": {
      "image/png": "[encoded data removed]",
      "text/plain": [
       "<Figure size 640x480 with 1 Axes>"
      ]
     },
     "metadata": {},
     "output_type": "display_data"
    }
   ],
   "source": [
    "plt.plot(cash_value[1:])"
   ]
  },
  {
   "cell_type": "code",
   "execution_count": 14,
   "id": "6e574d86",
   "metadata": {},
   "outputs": [],
   "source": [
    "import pandas_datareader as web\n",
    "tickers = df.TICKER.unique()"
   ]
  },
  {
   "cell_type": "code",
   "execution_count": 15,
   "id": "fff4ca16",
   "metadata": {},
   "outputs": [],
   "source": [
    " price_data = web.DataReader(tickers, \"yahoo\", f_date, dt.date.today())['Close']"
   ]
  },
  {
   "cell_type": "code",
   "execution_count": 42,
   "id": "32013c50",
   "metadata": {},
   "outputs": [
    {
     "data": {
      "text/html": [
       "<div>\n",
       "<style scoped>\n",
       "    .dataframe tbody tr th:only-of-type {\n",
       "        vertical-align: middle;\n",
       "    }\n",
       "\n",
       "    .dataframe tbody tr th {\n",
       "        vertical-align: top;\n",
       "    }\n",
       "\n",
       "    .dataframe thead th {\n",
       "        text-align: right;\n",
       "    }\n",
       "</style>\n",
       "<table border=\"1\" class=\"dataframe\">\n",
       "  <thead>\n",
       "    <tr style=\"text-align: right;\">\n",
       "      <th>Symbols</th>\n",
       "      <th>TSLA</th>\n",
       "      <th>APLS</th>\n",
       "      <th>NVDA</th>\n",
       "      <th>AAPL</th>\n",
       "      <th>GM</th>\n",
       "      <th>BIIB</th>\n",
       "      <th>GOOGL</th>\n",
       "    </tr>\n",
       "    <tr>\n",
       "      <th>Date</th>\n",
       "      <th></th>\n",
       "      <th></th>\n",
       "      <th></th>\n",
       "      <th></th>\n",
       "      <th></th>\n",
       "      <th></th>\n",
       "      <th></th>\n",
       "    </tr>\n",
       "  </thead>\n",
       "  <tbody>\n",
       "    <tr>\n",
       "      <th>2018-01-02</th>\n",
       "      <td>21.368668</td>\n",
       "      <td>20.780001</td>\n",
       "      <td>49.837502</td>\n",
       "      <td>43.064999</td>\n",
       "      <td>41.799999</td>\n",
       "      <td>334.170013</td>\n",
       "      <td>53.660500</td>\n",
       "    </tr>\n",
       "    <tr>\n",
       "      <th>2018-01-03</th>\n",
       "      <td>21.150000</td>\n",
       "      <td>22.639999</td>\n",
       "      <td>53.117500</td>\n",
       "      <td>43.057499</td>\n",
       "      <td>42.820000</td>\n",
       "      <td>339.850006</td>\n",
       "      <td>54.576000</td>\n",
       "    </tr>\n",
       "    <tr>\n",
       "      <th>2018-01-04</th>\n",
       "      <td>20.974667</td>\n",
       "      <td>24.940001</td>\n",
       "      <td>53.397499</td>\n",
       "      <td>43.257500</td>\n",
       "      <td>44.139999</td>\n",
       "      <td>339.989990</td>\n",
       "      <td>54.787998</td>\n",
       "    </tr>\n",
       "    <tr>\n",
       "      <th>2018-01-05</th>\n",
       "      <td>21.105333</td>\n",
       "      <td>23.490000</td>\n",
       "      <td>53.849998</td>\n",
       "      <td>43.750000</td>\n",
       "      <td>44.009998</td>\n",
       "      <td>342.489990</td>\n",
       "      <td>55.514500</td>\n",
       "    </tr>\n",
       "    <tr>\n",
       "      <th>2018-01-08</th>\n",
       "      <td>22.427334</td>\n",
       "      <td>23.000000</td>\n",
       "      <td>55.500000</td>\n",
       "      <td>43.587502</td>\n",
       "      <td>44.220001</td>\n",
       "      <td>329.649994</td>\n",
       "      <td>55.710499</td>\n",
       "    </tr>\n",
       "  </tbody>\n",
       "</table>\n",
       "</div>"
      ],
      "text/plain": [
       "Symbols          TSLA       APLS       NVDA       AAPL         GM        BIIB  \\\n",
       "Date                                                                            \n",
       "2018-01-02  21.368668  20.780001  49.837502  43.064999  41.799999  334.170013   \n",
       "2018-01-03  21.150000  22.639999  53.117500  43.057499  42.820000  339.850006   \n",
       "2018-01-04  20.974667  24.940001  53.397499  43.257500  44.139999  339.989990   \n",
       "2018-01-05  21.105333  23.490000  53.849998  43.750000  44.009998  342.489990   \n",
       "2018-01-08  22.427334  23.000000  55.500000  43.587502  44.220001  329.649994   \n",
       "\n",
       "Symbols         GOOGL  \n",
       "Date                   \n",
       "2018-01-02  53.660500  \n",
       "2018-01-03  54.576000  \n",
       "2018-01-04  54.787998  \n",
       "2018-01-05  55.514500  \n",
       "2018-01-08  55.710499  "
      ]
     },
     "execution_count": 42,
     "metadata": {},
     "output_type": "execute_result"
    }
   ],
   "source": [
    "price_data.head(5)"
   ]
  },
  {
   "cell_type": "code",
   "execution_count": 17,
   "id": "cb2bc173",
   "metadata": {},
   "outputs": [],
   "source": [
    "fund_df = pd.DataFrame()"
   ]
  },
  {
   "cell_type": "code",
   "execution_count": 18,
   "id": "25537e0a",
   "metadata": {},
   "outputs": [],
   "source": [
    "for n in tickers:\n",
    "    ticker_holdings = np.zeros(num_days)\n",
    "    for q in df[df.TICKER == n].iloc:\n",
    "        day = (q.DATE - f_date).days\n",
    "        if q.DIRECTION == \"BUY\":\n",
    "            ticker_holdings[day] += q.SIZE\n",
    "        else:\n",
    "            ticker_holdings[day] -= q.SIZE\n",
    "    for i in np.arange(1, num_days):\n",
    "        ticker_holdings[i] = ticker_holdings[i - 1] + ticker_holdings[i]\n",
    "    c = 0\n",
    "    for date, price in zip(price_data[n].index, price_data[n]):\n",
    "        day = (date - f_date).days\n",
    "        while(c < num_days and c <= day):\n",
    "            ticker_holdings[c] *= price\n",
    "            c += 1\n",
    "    fund_df[n] = ticker_holdings"
   ]
  },
  {
   "cell_type": "code",
   "execution_count": 19,
   "id": "b3a28e0f",
   "metadata": {},
   "outputs": [
    {
     "data": {
      "text/html": [
       "<div>\n",
       "<style scoped>\n",
       "    .dataframe tbody tr th:only-of-type {\n",
       "        vertical-align: middle;\n",
       "    }\n",
       "\n",
       "    .dataframe tbody tr th {\n",
       "        vertical-align: top;\n",
       "    }\n",
       "\n",
       "    .dataframe thead th {\n",
       "        text-align: right;\n",
       "    }\n",
       "</style>\n",
       "<table border=\"1\" class=\"dataframe\">\n",
       "  <thead>\n",
       "    <tr style=\"text-align: right;\">\n",
       "      <th></th>\n",
       "      <th>TSLA</th>\n",
       "      <th>APLS</th>\n",
       "      <th>NVDA</th>\n",
       "      <th>AAPL</th>\n",
       "      <th>GM</th>\n",
       "      <th>BIIB</th>\n",
       "      <th>GOOGL</th>\n",
       "    </tr>\n",
       "  </thead>\n",
       "  <tbody>\n",
       "    <tr>\n",
       "      <th>0</th>\n",
       "      <td>0.000000</td>\n",
       "      <td>0.000000</td>\n",
       "      <td>0.000000</td>\n",
       "      <td>0.000000</td>\n",
       "      <td>0.000000</td>\n",
       "      <td>0.000000</td>\n",
       "      <td>-697.586494</td>\n",
       "    </tr>\n",
       "    <tr>\n",
       "      <th>1</th>\n",
       "      <td>0.000000</td>\n",
       "      <td>0.000000</td>\n",
       "      <td>0.000000</td>\n",
       "      <td>0.000000</td>\n",
       "      <td>0.000000</td>\n",
       "      <td>2378.950043</td>\n",
       "      <td>-709.488003</td>\n",
       "    </tr>\n",
       "    <tr>\n",
       "      <th>2</th>\n",
       "      <td>0.000000</td>\n",
       "      <td>0.000000</td>\n",
       "      <td>0.000000</td>\n",
       "      <td>0.000000</td>\n",
       "      <td>0.000000</td>\n",
       "      <td>2379.929932</td>\n",
       "      <td>-712.243977</td>\n",
       "    </tr>\n",
       "    <tr>\n",
       "      <th>3</th>\n",
       "      <td>0.000000</td>\n",
       "      <td>0.000000</td>\n",
       "      <td>269.249992</td>\n",
       "      <td>0.000000</td>\n",
       "      <td>0.000000</td>\n",
       "      <td>2397.429932</td>\n",
       "      <td>-721.688496</td>\n",
       "    </tr>\n",
       "    <tr>\n",
       "      <th>4</th>\n",
       "      <td>0.000000</td>\n",
       "      <td>0.000000</td>\n",
       "      <td>277.500000</td>\n",
       "      <td>0.000000</td>\n",
       "      <td>0.000000</td>\n",
       "      <td>2307.549957</td>\n",
       "      <td>-724.236485</td>\n",
       "    </tr>\n",
       "    <tr>\n",
       "      <th>...</th>\n",
       "      <td>...</td>\n",
       "      <td>...</td>\n",
       "      <td>...</td>\n",
       "      <td>...</td>\n",
       "      <td>...</td>\n",
       "      <td>...</td>\n",
       "      <td>...</td>\n",
       "    </tr>\n",
       "    <tr>\n",
       "      <th>1752</th>\n",
       "      <td>81461.039520</td>\n",
       "      <td>40600.000000</td>\n",
       "      <td>72920.121460</td>\n",
       "      <td>71121.439697</td>\n",
       "      <td>30330.078754</td>\n",
       "      <td>236384.994507</td>\n",
       "      <td>74277.710907</td>\n",
       "    </tr>\n",
       "    <tr>\n",
       "      <th>1753</th>\n",
       "      <td>84274.920959</td>\n",
       "      <td>41873.999786</td>\n",
       "      <td>74546.682190</td>\n",
       "      <td>73045.922119</td>\n",
       "      <td>31640.000000</td>\n",
       "      <td>240857.995605</td>\n",
       "      <td>75139.587959</td>\n",
       "    </tr>\n",
       "    <tr>\n",
       "      <th>1754</th>\n",
       "      <td>83021.250000</td>\n",
       "      <td>40915.000534</td>\n",
       "      <td>75342.018723</td>\n",
       "      <td>74127.198486</td>\n",
       "      <td>32290.881104</td>\n",
       "      <td>247157.995605</td>\n",
       "      <td>76172.357506</td>\n",
       "    </tr>\n",
       "    <tr>\n",
       "      <th>1755</th>\n",
       "      <td>87457.500000</td>\n",
       "      <td>41207.250538</td>\n",
       "      <td>75342.018723</td>\n",
       "      <td>74127.198486</td>\n",
       "      <td>32290.881104</td>\n",
       "      <td>247157.995605</td>\n",
       "      <td>76172.357506</td>\n",
       "    </tr>\n",
       "    <tr>\n",
       "      <th>1756</th>\n",
       "      <td>87457.500000</td>\n",
       "      <td>41207.250538</td>\n",
       "      <td>75342.018723</td>\n",
       "      <td>74127.198486</td>\n",
       "      <td>32505.201111</td>\n",
       "      <td>247157.995605</td>\n",
       "      <td>76172.357506</td>\n",
       "    </tr>\n",
       "  </tbody>\n",
       "</table>\n",
       "<p>1757 rows × 7 columns</p>\n",
       "</div>"
      ],
      "text/plain": [
       "              TSLA          APLS          NVDA          AAPL            GM  \\\n",
       "0         0.000000      0.000000      0.000000      0.000000      0.000000   \n",
       "1         0.000000      0.000000      0.000000      0.000000      0.000000   \n",
       "2         0.000000      0.000000      0.000000      0.000000      0.000000   \n",
       "3         0.000000      0.000000    269.249992      0.000000      0.000000   \n",
       "4         0.000000      0.000000    277.500000      0.000000      0.000000   \n",
       "...            ...           ...           ...           ...           ...   \n",
       "1752  81461.039520  40600.000000  72920.121460  71121.439697  30330.078754   \n",
       "1753  84274.920959  41873.999786  74546.682190  73045.922119  31640.000000   \n",
       "1754  83021.250000  40915.000534  75342.018723  74127.198486  32290.881104   \n",
       "1755  87457.500000  41207.250538  75342.018723  74127.198486  32290.881104   \n",
       "1756  87457.500000  41207.250538  75342.018723  74127.198486  32505.201111   \n",
       "\n",
       "               BIIB         GOOGL  \n",
       "0          0.000000   -697.586494  \n",
       "1       2378.950043   -709.488003  \n",
       "2       2379.929932   -712.243977  \n",
       "3       2397.429932   -721.688496  \n",
       "4       2307.549957   -724.236485  \n",
       "...             ...           ...  \n",
       "1752  236384.994507  74277.710907  \n",
       "1753  240857.995605  75139.587959  \n",
       "1754  247157.995605  76172.357506  \n",
       "1755  247157.995605  76172.357506  \n",
       "1756  247157.995605  76172.357506  \n",
       "\n",
       "[1757 rows x 7 columns]"
      ]
     },
     "execution_count": 19,
     "metadata": {},
     "output_type": "execute_result"
    }
   ],
   "source": [
    "fund_df"
   ]
  },
  {
   "cell_type": "code",
   "execution_count": 20,
   "id": "b6dee06d",
   "metadata": {},
   "outputs": [
    {
     "data": {
      "text/plain": [
       "<matplotlib.legend.Legend at 0x1be389f3c40>"
      ]
     },
     "execution_count": 20,
     "metadata": {},
     "output_type": "execute_result"
    },
    {
     "data": {
      "image/png": "[encoded data removed]",
      "text/plain": [
       "<Figure size 640x480 with 1 Axes>"
      ]
     },
     "metadata": {},
     "output_type": "display_data"
    }
   ],
   "source": [
    "for n in fund_df:\n",
    "    plt.plot(fund_df[n], label=n)\n",
    "plt.legend()"
   ]
  },
  {
   "cell_type": "code",
   "execution_count": 21,
   "id": "3aae7cfb",
   "metadata": {},
   "outputs": [
    {
     "data": {
      "text/plain": [
       "array([0.0000000e+00, 1.8789521e+05, 1.8748886e+05, ..., 9.6151000e+02,\n",
       "       9.6151000e+02, 1.8702000e+02])"
      ]
     },
     "execution_count": 21,
     "metadata": {},
     "output_type": "execute_result"
    }
   ],
   "source": [
    "fund_value = np.array(cash_value[1:])\n",
    "cash_value"
   ]
  },
  {
   "cell_type": "code",
   "execution_count": 22,
   "id": "30e82ebf",
   "metadata": {},
   "outputs": [
    {
     "data": {
      "text/plain": [
       "array([1.8789521e+05, 1.8748886e+05, 1.8748886e+05, ..., 9.6151000e+02,\n",
       "       9.6151000e+02, 1.8702000e+02])"
      ]
     },
     "execution_count": 22,
     "metadata": {},
     "output_type": "execute_result"
    }
   ],
   "source": [
    "fund_value"
   ]
  },
  {
   "cell_type": "code",
   "execution_count": 23,
   "id": "53a50834",
   "metadata": {},
   "outputs": [],
   "source": [
    "for i, n in enumerate(fund_df):\n",
    "    fund_value += fund_df[n][1:]"
   ]
  },
  {
   "cell_type": "code",
   "execution_count": 46,
   "id": "f7b9d892",
   "metadata": {},
   "outputs": [
    {
     "data": {
      "text/plain": [
       "<matplotlib.legend.Legend at 0x1be3bf3ca30>"
      ]
     },
     "execution_count": 46,
     "metadata": {},
     "output_type": "execute_result"
    },
    {
     "data": {
      "image/png": "[encoded data removed]",
      "text/plain": [
       "<Figure size 640x480 with 1 Axes>"
      ]
     },
     "metadata": {},
     "output_type": "display_data"
    }
   ],
   "source": [
    "plt.plot(fund_value + cash_value[1:], label=\"A\")\n",
    "plt.plot(fund_value, label=\"B\")\n",
    "plt.plot(cash_value[1:], label=\"C\")\n",
    "plt.legend()"
   ]
  },
  {
   "cell_type": "code",
   "execution_count": null,
   "id": "5aab91c4",
   "metadata": {},
   "outputs": [],
   "source": []
  }
 ],
 "metadata": {
  "kernelspec": {
   "display_name": "Python 3 (ipykernel)",
   "language": "python",
   "name": "python3"
  },
  "language_info": {
   "codemirror_mode": {
    "name": "ipython",
    "version": 3
   },
   "file_extension": ".py",
   "mimetype": "text/x-python",
   "name": "python",
   "nbconvert_exporter": "python",
   "pygments_lexer": "ipython3",
   "version": "3.10.6"
  }
 },
 "nbformat": 4,
 "nbformat_minor": 5
}
